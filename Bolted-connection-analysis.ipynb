{
 "cells": [
  {
   "cell_type": "markdown",
   "id": "3052f7e1",
   "metadata": {},
   "source": [
    "# Bolted connection analysis"
   ]
  },
  {
   "cell_type": "code",
   "execution_count": 1,
   "id": "e143d1e0",
   "metadata": {},
   "outputs": [],
   "source": [
    "import numpy as np\n",
    "import pandas as pd\n",
    "from bolt_calc import *"
   ]
  },
  {
   "cell_type": "code",
   "execution_count": 2,
   "id": "34922023",
   "metadata": {},
   "outputs": [],
   "source": [
    "# Class initialization\n",
    "bolt = bolt('M18', '8.8')"
   ]
  },
  {
   "cell_type": "code",
   "execution_count": 7,
   "id": "95b95728",
   "metadata": {},
   "outputs": [
    {
     "name": "stdout",
     "output_type": "stream",
     "text": [
      "Preload parameter: 0.6 Re\n",
      "Axial load: 67.22 kN\n",
      "-------------------------------------\n",
      "P [mm]       2.500\n",
      "d [mm]      18.000\n",
      "d2 [mm]     16.376\n",
      "d1 [mm]     15.294\n",
      "d3 [mm]     14.933\n",
      "A [mm2]    175.047\n",
      "Name: M18, dtype: float64\n",
      "-------------------------------------\n"
     ]
    }
   ],
   "source": [
    "# Defined preload (with respect to Re)\n",
    "print(f'Preload parameter: {bolt.preload} Re')\n",
    "print(f'Axial load: {bolt.Fi} kN')\n",
    "print('-------------------------------------')\n",
    "\n",
    "# Dimensions\n",
    "print(bolt.dim)\n",
    "print('-------------------------------------')"
   ]
  },
  {
   "cell_type": "code",
   "execution_count": null,
   "id": "eb0884ca",
   "metadata": {},
   "outputs": [],
   "source": [
    "# Tightening torque\n",
    "dm = (24 + 13.5) / 2 # based on DIN125"
   ]
  }
 ],
 "metadata": {
  "kernelspec": {
   "display_name": "Python 3 (ipykernel)",
   "language": "python",
   "name": "python3"
  },
  "language_info": {
   "codemirror_mode": {
    "name": "ipython",
    "version": 3
   },
   "file_extension": ".py",
   "mimetype": "text/x-python",
   "name": "python",
   "nbconvert_exporter": "python",
   "pygments_lexer": "ipython3",
   "version": "3.10.11"
  }
 },
 "nbformat": 4,
 "nbformat_minor": 5
}
