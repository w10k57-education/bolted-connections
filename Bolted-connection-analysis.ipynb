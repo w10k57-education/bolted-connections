{
 "cells": [
  {
   "cell_type": "markdown",
   "id": "3052f7e1",
   "metadata": {},
   "source": [
    "# Bolted connection analysis"
   ]
  },
  {
   "cell_type": "code",
   "execution_count": 34,
   "id": "e143d1e0",
   "metadata": {},
   "outputs": [],
   "source": [
    "import numpy as np\n",
    "import pandas as pd\n",
    "from bolt_calc import *"
   ]
  },
  {
   "cell_type": "code",
   "execution_count": 38,
   "id": "95b95728",
   "metadata": {},
   "outputs": [
    {
     "name": "stdout",
     "output_type": "stream",
     "text": [
      "Preload parameter: 0.6 Re\n",
      "Axial load: 56.51 kN\n",
      "-------------------------------------\n",
      "P [mm]       2.000\n",
      "d [mm]      14.000\n",
      "d2 [mm]     12.701\n",
      "d1 [mm]     11.835\n",
      "d3 [mm]     11.546\n",
      "A [mm2]    104.653\n",
      "Name: M14, dtype: float64\n",
      "-------------------------------------\n",
      "Tightening torque: 151.84 Nm\n"
     ]
    }
   ],
   "source": [
    "# Class initialization\n",
    "data = bolt('M14', '10.9')\n",
    "\n",
    "# Defined preload (with respect to Re)\n",
    "print(f'Preload parameter: {data.preload} Re')\n",
    "print(f'Axial load: {data.Fi} kN')\n",
    "print('-------------------------------------')\n",
    "\n",
    "# Dimensions\n",
    "print(data.dim)\n",
    "print('-------------------------------------')\n",
    "\n",
    "# Tightening torque\n",
    "dm = (24 + 13.5) / 2 # based on DIN125\n",
    "print(f'Tightening torque: {data.torque(dm)} Nm')"
   ]
  },
  {
   "cell_type": "code",
   "execution_count": null,
   "id": "be3f29c4",
   "metadata": {},
   "outputs": [],
   "source": []
  }
 ],
 "metadata": {
  "kernelspec": {
   "display_name": "Python 3 (ipykernel)",
   "language": "python",
   "name": "python3"
  },
  "language_info": {
   "codemirror_mode": {
    "name": "ipython",
    "version": 3
   },
   "file_extension": ".py",
   "mimetype": "text/x-python",
   "name": "python",
   "nbconvert_exporter": "python",
   "pygments_lexer": "ipython3",
   "version": "3.10.11"
  }
 },
 "nbformat": 4,
 "nbformat_minor": 5
}
